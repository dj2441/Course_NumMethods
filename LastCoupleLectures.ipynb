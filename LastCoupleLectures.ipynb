{
 "cells": [
  {
   "cell_type": "code",
   "execution_count": 1,
   "metadata": {
    "collapsed": false
   },
   "outputs": [],
   "source": [
    "import sympy\n",
    "x = sympy.symbols('x')\n",
    "f = sympy.symbols('f', cls=sympy.Function)\n",
    "f = sympy.exp(x)\n",
    "f.series?"
   ]
  },
  {
   "cell_type": "code",
   "execution_count": 2,
   "metadata": {
    "collapsed": true
   },
   "outputs": [],
   "source": [
    "%matplotlib inline\n",
    "import numpy\n",
    "import matplotlib.pyplot as plt"
   ]
  },
  {
   "cell_type": "code",
   "execution_count": 3,
   "metadata": {
    "collapsed": false
   },
   "outputs": [
    {
     "name": "stdout",
     "output_type": "stream",
     "text": [
      "[  0.           0.1010101    0.2020202    0.3030303    0.4040404\n",
      "   0.50505051   0.60606061   0.70707071   0.80808081   0.90909091\n",
      "   1.01010101   1.11111111   1.21212121   1.31313131   1.41414141\n",
      "   1.51515152   1.61616162   1.71717172   1.81818182   1.91919192\n",
      "   2.02020202   2.12121212   2.22222222   2.32323232   2.42424242\n",
      "   2.52525253   2.62626263   2.72727273   2.82828283   2.92929293\n",
      "   3.03030303   3.13131313   3.23232323   3.33333333   3.43434343\n",
      "   3.53535354   3.63636364   3.73737374   3.83838384   3.93939394\n",
      "   4.04040404   4.14141414   4.24242424   4.34343434   4.44444444\n",
      "   4.54545455   4.64646465   4.74747475   4.84848485   4.94949495\n",
      "   5.05050505   5.15151515   5.25252525   5.35353535   5.45454545\n",
      "   5.55555556   5.65656566   5.75757576   5.85858586   5.95959596\n",
      "   6.06060606   6.16161616   6.26262626   6.36363636   6.46464646\n",
      "   6.56565657   6.66666667   6.76767677   6.86868687   6.96969697\n",
      "   7.07070707   7.17171717   7.27272727   7.37373737   7.47474747\n",
      "   7.57575758   7.67676768   7.77777778   7.87878788   7.97979798\n",
      "   8.08080808   8.18181818   8.28282828   8.38383838   8.48484848\n",
      "   8.58585859   8.68686869   8.78787879   8.88888889   8.98989899\n",
      "   9.09090909   9.19191919   9.29292929   9.39393939   9.49494949\n",
      "   9.5959596    9.6969697    9.7979798    9.8989899   10.        ]\n"
     ]
    }
   ],
   "source": [
    "x = numpy.linspace(0,10,100)\n",
    "print(x)"
   ]
  },
  {
   "cell_type": "code",
   "execution_count": 5,
   "metadata": {
    "collapsed": true
   },
   "outputs": [],
   "source": [
    "y = numpy.random?"
   ]
  },
  {
   "cell_type": "code",
   "execution_count": 6,
   "metadata": {
    "collapsed": true
   },
   "outputs": [],
   "source": [
    "y = numpy.random.random_sample?"
   ]
  },
  {
   "cell_type": "code",
   "execution_count": 10,
   "metadata": {
    "collapsed": false
   },
   "outputs": [
    {
     "name": "stdout",
     "output_type": "stream",
     "text": [
      "100\n"
     ]
    }
   ],
   "source": [
    "y = [0]\n",
    "for i in range(99):\n",
    "    y = y + [numpy.random.random_sample()]\n",
    "print(len(y))"
   ]
  },
  {
   "cell_type": "code",
   "execution_count": 11,
   "metadata": {
    "collapsed": false
   },
   "outputs": [
    {
     "data": {
      "text/plain": [
       "[<matplotlib.lines.Line2D at 0x81e3cc0>]"
      ]
     },
     "execution_count": 11,
     "metadata": {},
     "output_type": "execute_result"
    },
    {
     "data": {
      "image/png": "[encoded data removed]",
      "text/plain": [
       "<matplotlib.figure.Figure at 0x725c630>"
      ]
     },
     "metadata": {},
     "output_type": "display_data"
    }
   ],
   "source": [
    "plt.plot(x,y)"
   ]
  },
  {
   "cell_type": "code",
   "execution_count": null,
   "metadata": {
    "collapsed": true
   },
   "outputs": [],
   "source": []
  }
 ],
 "metadata": {
  "anaconda-cloud": {},
  "kernelspec": {
   "display_name": "Python [Root]",
   "language": "python",
   "name": "Python [Root]"
  },
  "language_info": {
   "codemirror_mode": {
    "name": "ipython",
    "version": 2
   },
   "file_extension": ".py",
   "mimetype": "text/x-python",
   "name": "python",
   "nbconvert_exporter": "python",
   "pygments_lexer": "ipython2",
   "version": "2.7.12"
  }
 },
 "nbformat": 4,
 "nbformat_minor": 0
}
