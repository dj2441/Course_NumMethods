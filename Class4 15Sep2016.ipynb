{
 "cells": [
  {
   "cell_type": "code",
   "execution_count": 5,
   "metadata": {
    "collapsed": false
   },
   "outputs": [
    {
     "data": {
      "image/png": "[encoded data removed]",
      "text/plain": [
       "<matplotlib.figure.Figure at 0x6a4da58>"
      ]
     },
     "metadata": {},
     "output_type": "display_data"
    }
   ],
   "source": [
    "%matplotlib inline\n",
    "import numpy\n",
    "import matplotlib.pyplot as plt\n",
    "d1values = [1,2,3,4,5,6,7,8,9]\n",
    "d2values = [0,1,2,3,4,5,6,7,8,9]\n",
    "E_values = [0,-1,-2]\n",
    "\n",
    "fig = plt.figure(figsize=(10.0, 1.0))\n",
    "axes = fig.add_subplot(1,1,1)\n",
    "\n",
    "\n",
    "for E in E_values:\n",
    "    for d1 in d1values:\n",
    "        for d2 in d2values:\n",
    "            axes.plot((d1+d2*0.1) * 10**E, 0.0, 'r+', markersize = 20)\n",
    "            axes.plot(-(d1 + d2 * 0.1) * 10**E,0.0,'r+', markersize = 20)\n",
    "            \n",
    "axes.plot(0.0,0.0, '+', markersize = 20)\n",
    "axes.plot([-10.0, 10.0],[0.0, 0.0], 'k')\n",
    "\n",
    "axes.set_title(\"Distribution of Values\")\n",
    "axes.set_yticks([])\n",
    "axes.set_xlabel(\"x\")\n",
    "axes.set_ylabel(\"\")\n",
    "axes.set_xlim([-0.1,0.1])\n",
    "plt.show()\n"
   ]
  },
  {
   "cell_type": "code",
   "execution_count": 10,
   "metadata": {
    "collapsed": false
   },
   "outputs": [
    {
     "data": {
      "image/png": "[encoded data removed]",
      "text/plain": [
       "<matplotlib.figure.Figure at 0x6e3d940>"
      ]
     },
     "metadata": {},
     "output_type": "display_data"
    }
   ],
   "source": [
    "%matplotlib inline\n",
    "import numpy\n",
    "import matplotlib.pyplot as plt\n",
    "d1values = [1,]\n",
    "d2values = [0,1]\n",
    "E_values = [-1,0,1]\n",
    "\n",
    "fig = plt.figure(figsize=(10.0, 1.0))\n",
    "axes = fig.add_subplot(1,1,1)\n",
    "\n",
    "\n",
    "for E in E_values:\n",
    "    for d1 in d1values:\n",
    "        for d2 in d2values:\n",
    "            axes.plot((d1+d2*0.5) * 2**E, 0.0, 'r+', markersize = 20)\n",
    "            axes.plot(-(d1 + d2 * 0.5) * 2**E,0.0,'r+', markersize = 20)\n",
    "            \n",
    "axes.plot(0.0,0.0, '+', markersize = 20)\n",
    "axes.plot([-2.0, 2.0],[0.0, 0.0], 'k')\n",
    "\n",
    "axes.set_title(\"Distribution of Values\")\n",
    "axes.set_yticks([])\n",
    "axes.set_xlabel(\"x\")\n",
    "axes.set_ylabel(\"\")\n",
    "axes.set_xlim([-3,3])\n",
    "plt.show()\n"
   ]
  },
  {
   "cell_type": "code",
   "execution_count": 11,
   "metadata": {
    "collapsed": false
   },
   "outputs": [
    {
     "name": "stdout",
     "output_type": "stream",
     "text": [
      "2.22044604925e-16\n"
     ]
    }
   ],
   "source": [
    "import numpy\n",
    "print numpy.finfo(float).eps"
   ]
  },
  {
   "cell_type": "code",
   "execution_count": 12,
   "metadata": {
    "collapsed": false
   },
   "outputs": [
    {
     "name": "stdout",
     "output_type": "stream",
     "text": [
      "2.22507385851e-308\n"
     ]
    }
   ],
   "source": [
    "print numpy.finfo(float).tiny"
   ]
  },
  {
   "cell_type": "code",
   "execution_count": null,
   "metadata": {
    "collapsed": true
   },
   "outputs": [],
   "source": []
  }
 ],
 "metadata": {
  "anaconda-cloud": {},
  "kernelspec": {
   "display_name": "Python [Root]",
   "language": "python",
   "name": "Python [Root]"
  },
  "language_info": {
   "codemirror_mode": {
    "name": "ipython",
    "version": 2
   },
   "file_extension": ".py",
   "mimetype": "text/x-python",
   "name": "python",
   "nbconvert_exporter": "python",
   "pygments_lexer": "ipython2",
   "version": "2.7.12"
  }
 },
 "nbformat": 4,
 "nbformat_minor": 0
}
